{
 "cells": [
  {
   "cell_type": "markdown",
   "id": "1ebdcd41",
   "metadata": {},
   "source": [
    "# Data Science & Business Analytics Task"
   ]
  },
  {
   "cell_type": "markdown",
   "id": "56facf57",
   "metadata": {},
   "source": [
    "## Prediction using Supervised Machine Learning\n",
    "## #Task 1 : To predict the percentage of an student based on the no. of study hours."
   ]
  },
  {
   "cell_type": "markdown",
   "id": "7c9d6f99",
   "metadata": {},
   "source": [
    " Importing required libraries. "
   ]
  },
  {
   "cell_type": "code",
   "execution_count": 1,
   "id": "6173b761",
   "metadata": {},
   "outputs": [],
   "source": [
    "import pandas as pd\n",
    "import numpy as np\n",
    "import matplotlib.pyplot as py\n",
    "%matplotlib inline"
   ]
  },
  {
   "cell_type": "markdown",
   "id": "2eafa7dd",
   "metadata": {},
   "source": [
    "Reading Data"
   ]
  },
  {
   "cell_type": "code",
   "execution_count": 2,
   "id": "06502bca",
   "metadata": {},
   "outputs": [],
   "source": [
    "data=pd.read_csv(\"http://bit.ly/w-data\")"
   ]
  },
  {
   "cell_type": "markdown",
   "id": "599c125c",
   "metadata": {},
   "source": [
    "Data is aligned in a tabular fashion in rows and columns."
   ]
  },
  {
   "cell_type": "code",
   "execution_count": 3,
   "id": "afe0ba7e",
   "metadata": {},
   "outputs": [
    {
     "data": {
      "text/html": [
       "<div>\n",
       "<style scoped>\n",
       "    .dataframe tbody tr th:only-of-type {\n",
       "        vertical-align: middle;\n",
       "    }\n",
       "\n",
       "    .dataframe tbody tr th {\n",
       "        vertical-align: top;\n",
       "    }\n",
       "\n",
       "    .dataframe thead th {\n",
       "        text-align: right;\n",
       "    }\n",
       "</style>\n",
       "<table border=\"1\" class=\"dataframe\">\n",
       "  <thead>\n",
       "    <tr style=\"text-align: right;\">\n",
       "      <th></th>\n",
       "      <th>Hours</th>\n",
       "      <th>Scores</th>\n",
       "    </tr>\n",
       "  </thead>\n",
       "  <tbody>\n",
       "    <tr>\n",
       "      <th>0</th>\n",
       "      <td>2.5</td>\n",
       "      <td>21</td>\n",
       "    </tr>\n",
       "    <tr>\n",
       "      <th>1</th>\n",
       "      <td>5.1</td>\n",
       "      <td>47</td>\n",
       "    </tr>\n",
       "    <tr>\n",
       "      <th>2</th>\n",
       "      <td>3.2</td>\n",
       "      <td>27</td>\n",
       "    </tr>\n",
       "    <tr>\n",
       "      <th>3</th>\n",
       "      <td>8.5</td>\n",
       "      <td>75</td>\n",
       "    </tr>\n",
       "    <tr>\n",
       "      <th>4</th>\n",
       "      <td>3.5</td>\n",
       "      <td>30</td>\n",
       "    </tr>\n",
       "  </tbody>\n",
       "</table>\n",
       "</div>"
      ],
      "text/plain": [
       "   Hours  Scores\n",
       "0    2.5      21\n",
       "1    5.1      47\n",
       "2    3.2      27\n",
       "3    8.5      75\n",
       "4    3.5      30"
      ]
     },
     "execution_count": 3,
     "metadata": {},
     "output_type": "execute_result"
    }
   ],
   "source": [
    "data.head()"
   ]
  },
  {
   "cell_type": "markdown",
   "id": "31a29b4a",
   "metadata": {},
   "source": [
    "## Information regarding the data."
   ]
  },
  {
   "cell_type": "markdown",
   "id": "030b8d4b",
   "metadata": {},
   "source": [
    "Dimension of the DataFrame"
   ]
  },
  {
   "cell_type": "code",
   "execution_count": 4,
   "id": "2685cfa3",
   "metadata": {},
   "outputs": [
    {
     "data": {
      "text/plain": [
       "(25, 2)"
      ]
     },
     "execution_count": 4,
     "metadata": {},
     "output_type": "execute_result"
    }
   ],
   "source": [
    "data.shape"
   ]
  },
  {
   "cell_type": "markdown",
   "id": "59ff3134",
   "metadata": {},
   "source": [
    "Some basic statistical details of the data. "
   ]
  },
  {
   "cell_type": "code",
   "execution_count": 5,
   "id": "a0b1ca23",
   "metadata": {},
   "outputs": [
    {
     "data": {
      "text/html": [
       "<div>\n",
       "<style scoped>\n",
       "    .dataframe tbody tr th:only-of-type {\n",
       "        vertical-align: middle;\n",
       "    }\n",
       "\n",
       "    .dataframe tbody tr th {\n",
       "        vertical-align: top;\n",
       "    }\n",
       "\n",
       "    .dataframe thead th {\n",
       "        text-align: right;\n",
       "    }\n",
       "</style>\n",
       "<table border=\"1\" class=\"dataframe\">\n",
       "  <thead>\n",
       "    <tr style=\"text-align: right;\">\n",
       "      <th></th>\n",
       "      <th>Hours</th>\n",
       "      <th>Scores</th>\n",
       "    </tr>\n",
       "  </thead>\n",
       "  <tbody>\n",
       "    <tr>\n",
       "      <th>count</th>\n",
       "      <td>25.000000</td>\n",
       "      <td>25.000000</td>\n",
       "    </tr>\n",
       "    <tr>\n",
       "      <th>mean</th>\n",
       "      <td>5.012000</td>\n",
       "      <td>51.480000</td>\n",
       "    </tr>\n",
       "    <tr>\n",
       "      <th>std</th>\n",
       "      <td>2.525094</td>\n",
       "      <td>25.286887</td>\n",
       "    </tr>\n",
       "    <tr>\n",
       "      <th>min</th>\n",
       "      <td>1.100000</td>\n",
       "      <td>17.000000</td>\n",
       "    </tr>\n",
       "    <tr>\n",
       "      <th>25%</th>\n",
       "      <td>2.700000</td>\n",
       "      <td>30.000000</td>\n",
       "    </tr>\n",
       "    <tr>\n",
       "      <th>50%</th>\n",
       "      <td>4.800000</td>\n",
       "      <td>47.000000</td>\n",
       "    </tr>\n",
       "    <tr>\n",
       "      <th>75%</th>\n",
       "      <td>7.400000</td>\n",
       "      <td>75.000000</td>\n",
       "    </tr>\n",
       "    <tr>\n",
       "      <th>max</th>\n",
       "      <td>9.200000</td>\n",
       "      <td>95.000000</td>\n",
       "    </tr>\n",
       "  </tbody>\n",
       "</table>\n",
       "</div>"
      ],
      "text/plain": [
       "           Hours     Scores\n",
       "count  25.000000  25.000000\n",
       "mean    5.012000  51.480000\n",
       "std     2.525094  25.286887\n",
       "min     1.100000  17.000000\n",
       "25%     2.700000  30.000000\n",
       "50%     4.800000  47.000000\n",
       "75%     7.400000  75.000000\n",
       "max     9.200000  95.000000"
      ]
     },
     "execution_count": 5,
     "metadata": {},
     "output_type": "execute_result"
    }
   ],
   "source": [
    "data.describe()"
   ]
  },
  {
   "cell_type": "markdown",
   "id": "16b684a7",
   "metadata": {},
   "source": [
    "The info() function is used to print a concise summary of a DataFrame \n",
    "( includes index dtype and column dtypes, non-null values and memory usage)"
   ]
  },
  {
   "cell_type": "code",
   "execution_count": 6,
   "id": "4ae87205",
   "metadata": {},
   "outputs": [
    {
     "name": "stdout",
     "output_type": "stream",
     "text": [
      "<class 'pandas.core.frame.DataFrame'>\n",
      "RangeIndex: 25 entries, 0 to 24\n",
      "Data columns (total 2 columns):\n",
      " #   Column  Non-Null Count  Dtype  \n",
      "---  ------  --------------  -----  \n",
      " 0   Hours   25 non-null     float64\n",
      " 1   Scores  25 non-null     int64  \n",
      "dtypes: float64(1), int64(1)\n",
      "memory usage: 528.0 bytes\n"
     ]
    }
   ],
   "source": [
    "data.info()"
   ]
  },
  {
   "cell_type": "markdown",
   "id": "b1d44d6c",
   "metadata": {},
   "source": [
    "The null()function is used to check the null values in the data."
   ]
  },
  {
   "cell_type": "code",
   "execution_count": 16,
   "id": "d9b6ff3e",
   "metadata": {},
   "outputs": [
    {
     "data": {
      "text/plain": [
       "Hours     0\n",
       "Scores    0\n",
       "dtype: int64"
      ]
     },
     "execution_count": 16,
     "metadata": {},
     "output_type": "execute_result"
    }
   ],
   "source": [
    "data.isnull().sum()"
   ]
  },
  {
   "cell_type": "markdown",
   "id": "2e601abd",
   "metadata": {},
   "source": [
    "## For visualizing our dataset to predict the relation between the data, lets plot it on 2D."
   ]
  },
  {
   "cell_type": "markdown",
   "id": "468bcc32",
   "metadata": {},
   "source": [
    "Ploting using matplotlib library"
   ]
  },
  {
   "cell_type": "markdown",
   "id": "fa80549f",
   "metadata": {},
   "source": [
    "Scatter Plot"
   ]
  },
  {
   "cell_type": "code",
   "execution_count": 8,
   "id": "82ff303c",
   "metadata": {},
   "outputs": [
    {
     "data": {
      "text/plain": [
       "Text(0.5, 1.0, 'Score vs Hour')"
      ]
     },
     "execution_count": 8,
     "metadata": {},
     "output_type": "execute_result"
    },
    {
     "data": {
      "image/png": "[encoded data removed]",
      "text/plain": [
       "<Figure size 432x288 with 1 Axes>"
      ]
     },
     "metadata": {
      "needs_background": "light"
     },
     "output_type": "display_data"
    }
   ],
   "source": [
    "data.plot(x='Hours',y='Scores',style='o')\n",
    "py.xlabel('Hour studied')\n",
    "py.ylabel('Score gained')\n",
    "py.title('Score vs Hour')\n"
   ]
  },
  {
   "cell_type": "markdown",
   "id": "6fa88591",
   "metadata": {},
   "source": [
    "Bar Plot"
   ]
  },
  {
   "cell_type": "code",
   "execution_count": 9,
   "id": "1ae14b10",
   "metadata": {},
   "outputs": [
    {
     "data": {
      "text/plain": [
       "Text(0.5, 1.0, 'Score vs Hour')"
      ]
     },
     "execution_count": 9,
     "metadata": {},
     "output_type": "execute_result"
    },
    {
     "data": {
      "image/png": "[encoded data removed]",
      "text/plain": [
       "<Figure size 432x288 with 1 Axes>"
      ]
     },
     "metadata": {
      "needs_background": "light"
     },
     "output_type": "display_data"
    }
   ],
   "source": [
    "x = data.iloc[:,0].values  \n",
    "y = data.iloc[:, 1].values  \n",
    "py.bar(x,y)\n",
    "py.xlabel('Hour studied')\n",
    "py.ylabel('Score gained')\n",
    "py.title('Score vs Hour')\n",
    "\n"
   ]
  },
  {
   "cell_type": "markdown",
   "id": "b187f6dd",
   "metadata": {},
   "source": [
    "From the graphs we can see that hours and scores are directly proportional i.e share positive linear relation."
   ]
  },
  {
   "cell_type": "markdown",
   "id": "92f0d0b4",
   "metadata": {},
   "source": [
    "## Preparing the data.\n",
    "The train_test_split is a function in Sklearn model selection for splitting data arrays into two subsets: for training data and for testing data"
   ]
  },
  {
   "cell_type": "code",
   "execution_count": 10,
   "id": "46aa096a",
   "metadata": {},
   "outputs": [],
   "source": [
    "x = data.iloc[:,:-1].values   "
   ]
  },
  {
   "cell_type": "code",
   "execution_count": 11,
   "id": "92a8b647",
   "metadata": {},
   "outputs": [],
   "source": [
    "from sklearn.model_selection import train_test_split\n",
    "X_train,X_test,y_train,y_test=train_test_split(x,y,test_size=0.2)"
   ]
  },
  {
   "cell_type": "markdown",
   "id": "1d37186d",
   "metadata": {},
   "source": [
    "## Training the Algorithm\n",
    "Linear Regression is a machine learning algorithm based on supervised learning. It performs a regression task. Regression models a target prediction value based on independent variables. It is mostly used for finding out the relationship between variables and forecasting"
   ]
  },
  {
   "cell_type": "code",
   "execution_count": 12,
   "id": "4d1292b8",
   "metadata": {},
   "outputs": [
    {
     "data": {
      "text/plain": [
       "LinearRegression()"
      ]
     },
     "execution_count": 12,
     "metadata": {},
     "output_type": "execute_result"
    }
   ],
   "source": [
    "from sklearn.linear_model import LinearRegression\n",
    "regressor=LinearRegression()\n",
    "regressor.fit(X_train,y_train)"
   ]
  },
  {
   "cell_type": "markdown",
   "id": "6d14eb30",
   "metadata": {},
   "source": [
    "Ploting the linear regression"
   ]
  },
  {
   "cell_type": "code",
   "execution_count": 13,
   "id": "a5ebb962",
   "metadata": {},
   "outputs": [],
   "source": [
    "line=regressor.coef_*x+regressor.intercept_"
   ]
  },
  {
   "cell_type": "code",
   "execution_count": 14,
   "id": "940b093b",
   "metadata": {},
   "outputs": [
    {
     "data": {
      "image/png": "[encoded data removed]",
      "text/plain": [
       "<Figure size 432x288 with 1 Axes>"
      ]
     },
     "metadata": {
      "needs_background": "light"
     },
     "output_type": "display_data"
    }
   ],
   "source": [
    "py.scatter(x,y)\n",
    "py.plot(x,line)\n",
    "py.show()"
   ]
  },
  {
   "cell_type": "markdown",
   "id": "9990fb86",
   "metadata": {},
   "source": [
    "## Making Prediction"
   ]
  },
  {
   "cell_type": "code",
   "execution_count": 15,
   "id": "29ff96d9",
   "metadata": {},
   "outputs": [],
   "source": [
    "yPred=regressor.predict(X_test)"
   ]
  },
  {
   "cell_type": "code",
   "execution_count": 17,
   "id": "2b9fc837",
   "metadata": {},
   "outputs": [
    {
     "data": {
      "text/plain": [
       "array([[7.8],\n",
       "       [8.9],\n",
       "       [9.2],\n",
       "       [4.5],\n",
       "       [3.8]])"
      ]
     },
     "execution_count": 17,
     "metadata": {},
     "output_type": "execute_result"
    }
   ],
   "source": [
    "X_test"
   ]
  },
  {
   "cell_type": "code",
   "execution_count": 18,
   "id": "0d1d2afc",
   "metadata": {},
   "outputs": [],
   "source": [
    "df = pd.DataFrame({'Actual Scores': y_test, 'Predicted Scores': yPred})  \n"
   ]
  },
  {
   "cell_type": "code",
   "execution_count": 19,
   "id": "a8d07012",
   "metadata": {},
   "outputs": [
    {
     "data": {
      "text/html": [
       "<div>\n",
       "<style scoped>\n",
       "    .dataframe tbody tr th:only-of-type {\n",
       "        vertical-align: middle;\n",
       "    }\n",
       "\n",
       "    .dataframe tbody tr th {\n",
       "        vertical-align: top;\n",
       "    }\n",
       "\n",
       "    .dataframe thead th {\n",
       "        text-align: right;\n",
       "    }\n",
       "</style>\n",
       "<table border=\"1\" class=\"dataframe\">\n",
       "  <thead>\n",
       "    <tr style=\"text-align: right;\">\n",
       "      <th></th>\n",
       "      <th>Actual Scores</th>\n",
       "      <th>Predicted Scores</th>\n",
       "    </tr>\n",
       "  </thead>\n",
       "  <tbody>\n",
       "    <tr>\n",
       "      <th>0</th>\n",
       "      <td>86</td>\n",
       "      <td>77.886128</td>\n",
       "    </tr>\n",
       "    <tr>\n",
       "      <th>1</th>\n",
       "      <td>95</td>\n",
       "      <td>88.322103</td>\n",
       "    </tr>\n",
       "    <tr>\n",
       "      <th>2</th>\n",
       "      <td>88</td>\n",
       "      <td>91.168278</td>\n",
       "    </tr>\n",
       "    <tr>\n",
       "      <th>3</th>\n",
       "      <td>41</td>\n",
       "      <td>46.578201</td>\n",
       "    </tr>\n",
       "    <tr>\n",
       "      <th>4</th>\n",
       "      <td>35</td>\n",
       "      <td>39.937126</td>\n",
       "    </tr>\n",
       "  </tbody>\n",
       "</table>\n",
       "</div>"
      ],
      "text/plain": [
       "   Actual Scores  Predicted Scores\n",
       "0             86         77.886128\n",
       "1             95         88.322103\n",
       "2             88         91.168278\n",
       "3             41         46.578201\n",
       "4             35         39.937126"
      ]
     },
     "execution_count": 19,
     "metadata": {},
     "output_type": "execute_result"
    }
   ],
   "source": [
    "df"
   ]
  },
  {
   "cell_type": "markdown",
   "id": "2f800349",
   "metadata": {},
   "source": [
    "## Task Work\n",
    "To predict score if a student studies for 9.25 hrs/ day."
   ]
  },
  {
   "cell_type": "code",
   "execution_count": 20,
   "id": "63b04f1d",
   "metadata": {},
   "outputs": [],
   "source": [
    "x_val=[[9.25]]\n",
    "y_val=regressor.predict(x_val)"
   ]
  },
  {
   "cell_type": "code",
   "execution_count": 21,
   "id": "43890cf9",
   "metadata": {},
   "outputs": [
    {
     "data": {
      "text/plain": [
       "array([91.64264056])"
      ]
     },
     "execution_count": 21,
     "metadata": {},
     "output_type": "execute_result"
    }
   ],
   "source": [
    "y_val"
   ]
  },
  {
   "cell_type": "markdown",
   "id": "d03225cf",
   "metadata": {},
   "source": [
    "## Evaluating the algorithm\n",
    " To calculate the MSE you take the difference between your model's predictions and the ground truth, square it, and average it out across the whole dataset."
   ]
  },
  {
   "cell_type": "code",
   "execution_count": 22,
   "id": "01e66cbf",
   "metadata": {},
   "outputs": [
    {
     "data": {
      "text/plain": [
       "5.695074960516261"
      ]
     },
     "execution_count": 22,
     "metadata": {},
     "output_type": "execute_result"
    }
   ],
   "source": [
    "from sklearn import metrics\n",
    "metrics.mean_absolute_error(y_test, yPred)"
   ]
  }
 ],
 "metadata": {
  "kernelspec": {
   "display_name": "Python 3",
   "language": "python",
   "name": "python3"
  },
  "language_info": {
   "codemirror_mode": {
    "name": "ipython",
    "version": 3
   },
   "file_extension": ".py",
   "mimetype": "text/x-python",
   "name": "python",
   "nbconvert_exporter": "python",
   "pygments_lexer": "ipython3",
   "version": "3.8.8"
  }
 },
 "nbformat": 4,
 "nbformat_minor": 5
}
